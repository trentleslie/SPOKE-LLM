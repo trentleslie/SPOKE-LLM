{
 "cells": [
  {
   "cell_type": "code",
   "execution_count": 10,
   "metadata": {},
   "outputs": [
    {
     "name": "stdout",
     "output_type": "stream",
     "text": [
      "Available databases: {'_system': ArangoDB database: _system, 'spoke23_human': ArangoDB database: spoke23_human}\n"
     ]
    }
   ],
   "source": [
    "from pyArango.connection import Connection\n",
    "import requests\n",
    "\n",
    "# Function to connect to ArangoDB\n",
    "def connect_to_arangodb(url, username, password):\n",
    "    # Establish a connection to ArangoDB\n",
    "    return Connection(arangoURL=url, username=username, password=password)\n",
    "\n",
    "# Function to list databases\n",
    "def list_databases(conn):\n",
    "    # List available databases\n",
    "    return conn.databases\n",
    "\n",
    "# Function to delete a database\n",
    "def delete_database(conn, db_name):\n",
    "    if db_name in conn.databases:\n",
    "        # Ensure the URL is a string, not a list\n",
    "        arango_url = conn.arangoURL if isinstance(conn.arangoURL, str) else conn.arangoURL[0]\n",
    "        db_url = f'{arango_url}/_api/database/{db_name}'\n",
    "        # Send a DELETE request\n",
    "        response = conn.session.delete(db_url)\n",
    "\n",
    "        if response.status_code == 200 or response.status_code == 202:\n",
    "            print(f\"Database '{db_name}' deleted successfully.\")\n",
    "        else:\n",
    "            print(f\"Failed to delete database '{db_name}'. Status: {response.status_code}, Response: {response.text}\")\n",
    "    else:\n",
    "        print(f\"Database '{db_name}' does not exist.\")\n",
    "\n",
    "# Function to get a database\n",
    "def get_database(conn, db_name):\n",
    "    if db_name in conn.databases:\n",
    "        return conn[db_name]\n",
    "    else:\n",
    "        print(f\"Database '{db_name}' does not exist.\")\n",
    "        return None\n",
    "\n",
    "# Connection details - replace with your actual details\n",
    "arango_url = 'http://localhost:8529'  # URL of your ArangoDB instance\n",
    "username = 'root'                    # Username\n",
    "password = 'ph'            # Password\n",
    "\n",
    "# Connect to ArangoDB\n",
    "conn = connect_to_arangodb(arango_url, username, password)\n",
    "print(\"Available databases:\", list_databases(conn))\n"
   ]
  },
  {
   "cell_type": "code",
   "execution_count": 8,
   "metadata": {},
   "outputs": [
    {
     "name": "stdout",
     "output_type": "stream",
     "text": [
      "Database 'spoke21' deleted successfully.\n"
     ]
    }
   ],
   "source": [
    "delete_database(conn, 'spoke21')"
   ]
  }
 ],
 "metadata": {
  "kernelspec": {
   "display_name": "spoke_llm_gradio",
   "language": "python",
   "name": "python3"
  },
  "language_info": {
   "codemirror_mode": {
    "name": "ipython",
    "version": 3
   },
   "file_extension": ".py",
   "mimetype": "text/x-python",
   "name": "python",
   "nbconvert_exporter": "python",
   "pygments_lexer": "ipython3",
   "version": "3.12.4"
  }
 },
 "nbformat": 4,
 "nbformat_minor": 2
}
