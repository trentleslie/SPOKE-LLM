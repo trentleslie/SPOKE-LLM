{
 "cells": [
  {
   "cell_type": "code",
   "execution_count": 1,
   "metadata": {},
   "outputs": [
    {
     "name": "stdout",
     "output_type": "stream",
     "text": [
      "Connecting...\n"
     ]
    },
    {
     "name": "stderr",
     "output_type": "stream",
     "text": [
      "Loading Data: 100%|██████████| 10376368/10376368 [3:44:49<00:00, 769.24it/s] "
     ]
    },
    {
     "name": "stdout",
     "output_type": "stream",
     "text": [
      "Total nodes added: 603900\n",
      "Total edges added: 9772468\n"
     ]
    },
    {
     "name": "stderr",
     "output_type": "stream",
     "text": [
      "\n"
     ]
    }
   ],
   "source": [
    "import json\n",
    "from tqdm import tqdm\n",
    "from pyArango.connection import Connection\n",
    "from pyArango.collection import Edges\n",
    "from pyArango.theExceptions import CreationError\n",
    "\n",
    "# ArangoDB database name\n",
    "db_name = \"spoke23_human\"\n",
    "# File path to your JSON file\n",
    "file_path = '/home/trent/github/SPOKE-LLM/spoke_2023_human.json'\n",
    "\n",
    "def ensure_collections(db):\n",
    "    \"\"\"Ensure the collections exist and are of correct type.\"\"\"\n",
    "    if not db.hasCollection(\"Nodes\"):\n",
    "        db.createCollection(name=\"Nodes\")\n",
    "    if not db.hasCollection(\"Edges\"):\n",
    "        # Specify the name for the edge collection\n",
    "        db.createCollection(name=\"Edges\", className=\"Edges\", type=3)\n",
    "\n",
    "def load_data_from_json(filename, db, stop_at=-1):\n",
    "    \"\"\"Load data from JSON file into the database.\"\"\"\n",
    "    nodes_added = 0\n",
    "    edges_added = 0\n",
    "\n",
    "    with open(filename, 'r') as file:\n",
    "        total_lines = sum(1 for line in file)\n",
    "        file.seek(0)  # Reset file read position\n",
    "        \n",
    "        for line in tqdm(file, total=total_lines, desc=\"Loading Data\"):\n",
    "            if stop_at > -1 and (nodes_added + edges_added) >= stop_at:\n",
    "                break\n",
    "            \n",
    "            try:\n",
    "                data = json.loads(line)\n",
    "                if data['type'] == 'node':\n",
    "                    node_doc = db[\"Nodes\"].createDocument()\n",
    "                    node_doc['_key'] = str(data['id'])\n",
    "                    node_doc.set(data)\n",
    "                    node_doc.save()\n",
    "                    nodes_added += 1\n",
    "                elif data['type'] == 'relationship':\n",
    "                    edge_doc = db[\"Edges\"].createDocument()\n",
    "                    edge_doc['_from'] = 'Nodes/' + str(data['start']['id'])\n",
    "                    edge_doc['_to'] = 'Nodes/' + str(data['end']['id'])\n",
    "                    # Copy other properties\n",
    "                    for key, value in data.items():\n",
    "                        if key not in ['_from', '_to', 'type', 'id']:\n",
    "                            edge_doc[key] = value\n",
    "                    edge_doc.save()\n",
    "                    edges_added += 1\n",
    "            except CreationError as e:\n",
    "                if 'unique constraint violated' in e.message:\n",
    "                    print(f\"A document with _key {data['id']} already exists. Skipping...\")\n",
    "                else:\n",
    "                    print(f\"Failed to create document: {e}\")\n",
    "                continue\n",
    "            except json.JSONDecodeError:\n",
    "                continue  # Skip invalid JSON lines\n",
    "\n",
    "    return nodes_added, edges_added\n",
    "\n",
    "# Connect to ArangoDB\n",
    "print(\"Connecting...\")\n",
    "try:\n",
    "    conn = Connection(username=\"root\", password=\"ph\")\n",
    "except ConnectionError as e:\n",
    "    print(f\"Unable to establish connection, perhaps ArangoDB is not running: {e}\")\n",
    "    exit(1)\n",
    "\n",
    "# Check if database exists, create if not\n",
    "if not conn.hasDatabase(db_name):\n",
    "    conn.createDatabase(name=db_name)\n",
    "\n",
    "db = conn[db_name]\n",
    "\n",
    "# Ensure the collections are properly set up\n",
    "ensure_collections(db)\n",
    "\n",
    "# Load data from JSON file\n",
    "nodes_added, edges_added = load_data_from_json(file_path, db)\n",
    "\n",
    "# Print status report\n",
    "print(f\"Total nodes added: {nodes_added}\")\n",
    "print(f\"Total edges added: {edges_added}\")\n"
   ]
  }
 ],
 "metadata": {
  "kernelspec": {
   "display_name": "spoke_llm_gradio",
   "language": "python",
   "name": "python3"
  },
  "language_info": {
   "codemirror_mode": {
    "name": "ipython",
    "version": 3
   },
   "file_extension": ".py",
   "mimetype": "text/x-python",
   "name": "python",
   "nbconvert_exporter": "python",
   "pygments_lexer": "ipython3",
   "version": "3.12.4"
  }
 },
 "nbformat": 4,
 "nbformat_minor": 2
}
